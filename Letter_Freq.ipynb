{
 "cells": [
  {
   "cell_type": "code",
   "execution_count": 26,
   "id": "1f4b7cdd",
   "metadata": {},
   "outputs": [],
   "source": [
    "# Imports\n",
    "import pandas as pd\n",
    "import os"
   ]
  },
  {
   "cell_type": "code",
   "execution_count": 27,
   "id": "e07547e3",
   "metadata": {},
   "outputs": [],
   "source": [
    "# Initialize Word List\n",
    "\n",
    "words = pd.read_csv(\"sgb-words.txt\", header = None, names = ['Val'])"
   ]
  },
  {
   "cell_type": "code",
   "execution_count": 28,
   "id": "2a620223",
   "metadata": {},
   "outputs": [],
   "source": [
    "words = words.squeeze()"
   ]
  },
  {
   "cell_type": "code",
   "execution_count": 29,
   "id": "63d96550",
   "metadata": {},
   "outputs": [],
   "source": [
    "plurals = pd.DataFrame(columns = ['Label'])\n",
    "plural_words = pd.DataFrame(columns = ['Word'])\n",
    "count = 0\n",
    "\n",
    "for i in words:\n",
    "    if i[4] == 's':\n",
    "        plural_words = plural_words.append({'Word': i}, ignore_index = True)\n",
    "        plurals = plurals.append({'Label': count}, ignore_index = True)\n",
    "    count = count + 1"
   ]
  },
  {
   "cell_type": "code",
   "execution_count": 30,
   "id": "cb70d285",
   "metadata": {},
   "outputs": [
    {
     "data": {
      "text/plain": [
       "5    these\n",
       "6    other\n",
       "7    words\n",
       "8    could\n",
       "9    write\n",
       "Name: Val, dtype: object"
      ]
     },
     "execution_count": 30,
     "metadata": {},
     "output_type": "execute_result"
    }
   ],
   "source": [
    "words[5:10]"
   ]
  },
  {
   "cell_type": "code",
   "execution_count": 31,
   "id": "680cb415",
   "metadata": {},
   "outputs": [
    {
     "name": "stdout",
     "output_type": "stream",
     "text": [
      "5757\n",
      "3993\n"
     ]
    }
   ],
   "source": [
    "print(words.size)\n",
    "words = words.drop(labels = plurals['Label'].values)\n",
    "print(words.size)"
   ]
  },
  {
   "cell_type": "code",
   "execution_count": 32,
   "id": "8a58da63",
   "metadata": {},
   "outputs": [
    {
     "data": {
      "text/plain": [
       "5     these\n",
       "6     other\n",
       "8     could\n",
       "9     write\n",
       "10    first\n",
       "Name: Val, dtype: object"
      ]
     },
     "execution_count": 32,
     "metadata": {},
     "output_type": "execute_result"
    }
   ],
   "source": [
    "words[5:10]"
   ]
  },
  {
   "cell_type": "code",
   "execution_count": 33,
   "id": "d18afc56",
   "metadata": {},
   "outputs": [],
   "source": [
    "# Initialize frequency table\n",
    "\n",
    "alpha = ['a','b','c','d','e','f','g','h','i','j','k','l','m','n','o','p','q','r','s','t','u','v','w','x','y','z']\n",
    "zeroes = [0,0,0,0,0,0,0,0,0,0,0,0,0,0,0,0,0,0,0,0,0,0,0,0,0,0]\n",
    "\n",
    "freq_list = pd.DataFrame(zeroes, index = alpha, columns = ['Frequency'])\n",
    "\n",
    "first_list = pd.DataFrame(zeroes, index = alpha, columns = ['Frequency'])\n",
    "\n",
    "last_list = pd.DataFrame(zeroes, index = alpha, columns = ['Frequency'])\n",
    "\n",
    "three_list = pd.DataFrame(columns = ['Frequency'])\n",
    "\n",
    "del alpha, zeroes\n",
    "\n",
    "count = 0"
   ]
  },
  {
   "cell_type": "code",
   "execution_count": 34,
   "id": "e01dc751",
   "metadata": {},
   "outputs": [
    {
     "data": {
      "text/plain": [
       "'write'"
      ]
     },
     "execution_count": 34,
     "metadata": {},
     "output_type": "execute_result"
    }
   ],
   "source": [
    "words[9]"
   ]
  },
  {
   "cell_type": "code",
   "execution_count": 35,
   "id": "a2dda5a0",
   "metadata": {},
   "outputs": [],
   "source": [
    "for i in words:\n",
    "    ++count\n",
    "    for j in i:\n",
    "        freq_list.loc[j] = freq_list.loc[j] + 1\n",
    "    \n",
    "    first_list.loc[i[0]] = first_list.loc[i[0]] + 1\n",
    "    \n",
    "    last_list.loc[i[4]] = last_list.loc[i[4]] + 1\n",
    "    \n",
    "    # Three List\n",
    "    a = i[0:3]\n",
    "    b = i[1:4]\n",
    "    c = i[2:5]\n",
    "    set = [a,b,c]\n",
    "    for z in set:\n",
    "        if z in three_list.index.values:\n",
    "            three_list.loc[z] = three_list.loc[z] + 1\n",
    "        else:\n",
    "            three_list.loc[z] = 1\n"
   ]
  },
  {
   "cell_type": "code",
   "execution_count": 37,
   "id": "c8057a8a",
   "metadata": {},
   "outputs": [],
   "source": [
    "freq_list = freq_list.sort_values('Frequency', ascending = False)\n",
    "first_list = first_list.sort_values('Frequency', ascending = False)\n",
    "last_list = last_list.sort_values('Frequency', ascending = False)\n",
    "three_list = three_list.sort_values('Frequency', ascending = False)"
   ]
  },
  {
   "cell_type": "code",
   "execution_count": 38,
   "id": "ddc87497",
   "metadata": {},
   "outputs": [],
   "source": [
    "freq_list.to_csv(\"All_Letter_Frequencies.txt\", sep = ' ', index_label = 'Letter')\n",
    "first_list.to_csv(\"First_Letter_Frequencies.txt\", sep = ' ', index_label = 'Letter')\n",
    "last_list.to_csv(\"Last_Letter_Frequencies.txt\", sep = ' ', index_label = 'Letter')\n",
    "three_list.to_csv(\"Three_Letter_Frequencies.txt\", sep = ' ', index_label = 'Letter')"
   ]
  }
 ],
 "metadata": {
  "kernelspec": {
   "display_name": "Python 3 (ipykernel)",
   "language": "python",
   "name": "python3"
  },
  "language_info": {
   "codemirror_mode": {
    "name": "ipython",
    "version": 3
   },
   "file_extension": ".py",
   "mimetype": "text/x-python",
   "name": "python",
   "nbconvert_exporter": "python",
   "pygments_lexer": "ipython3",
   "version": "3.9.7"
  }
 },
 "nbformat": 4,
 "nbformat_minor": 5
}
