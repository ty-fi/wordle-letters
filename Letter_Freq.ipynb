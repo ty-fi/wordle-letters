{
 "cells": [
  {
   "cell_type": "code",
   "execution_count": 35,
   "id": "1f4b7cdd",
   "metadata": {},
   "outputs": [],
   "source": [
    "# Imports\n",
    "import pandas as pd\n",
    "import os"
   ]
  },
  {
   "cell_type": "code",
   "execution_count": 36,
   "id": "e07547e3",
   "metadata": {},
   "outputs": [],
   "source": [
    "# Initialize Word List\n",
    "\n",
    "words = pd.read_csv(\"sgb-words.txt\", header = None, names = ['Val'])"
   ]
  },
  {
   "cell_type": "code",
   "execution_count": 37,
   "id": "bd50cb9c",
   "metadata": {},
   "outputs": [],
   "source": [
    "words = words.squeeze()"
   ]
  },
  {
   "cell_type": "code",
   "execution_count": 38,
   "id": "d18afc56",
   "metadata": {},
   "outputs": [],
   "source": [
    "# Initialize frequency table\n",
    "\n",
    "alpha = ['a','b','c','d','e','f','g','h','i','j','k','l','m','n','o','p','q','r','s','t','u','v','w','x','y','z']\n",
    "zeroes = [0,0,0,0,0,0,0,0,0,0,0,0,0,0,0,0,0,0,0,0,0,0,0,0,0,0]\n",
    "\n",
    "freq_list = pd.DataFrame(zeroes, index = alpha, columns = ['Frequency'])\n",
    "\n",
    "first_list = pd.DataFrame(zeroes, index = alpha, columns = ['Frequency'])\n",
    "\n",
    "last_list = pd.DataFrame(zeroes, index = alpha, columns = ['Frequency'])\n",
    "\n",
    "three_list = pd.DataFrame(columns = ['Frequency'])\n",
    "\n",
    "del alpha, zeroes\n",
    "\n",
    "count = 0"
   ]
  },
  {
   "cell_type": "code",
   "execution_count": 39,
   "id": "a2dda5a0",
   "metadata": {},
   "outputs": [],
   "source": [
    "for i in words:\n",
    "    ++count\n",
    "    for j in i:\n",
    "        freq_list.loc[j] = freq_list.loc[j] + 1\n",
    "    \n",
    "    \n",
    "    first_list.loc[i[0]] = first_list.loc[i[0]] + 1\n",
    "    \n",
    "    last_list.loc[i[4]] = last_list.loc[i[4]] + 1\n",
    "    \n",
    "    # Three List\n",
    "    a = i[0:3]\n",
    "    b = i[1:4]\n",
    "    c = i[2:5]\n",
    "    set = [a,b,c]\n",
    "    for z in set:\n",
    "        if z in three_list.index.values:\n",
    "            three_list.loc[z] = three_list.loc[z] + 1\n",
    "        else:\n",
    "            three_list.loc[z] = 1\n",
    "    "
   ]
  },
  {
   "cell_type": "code",
   "execution_count": 40,
   "id": "c8057a8a",
   "metadata": {},
   "outputs": [],
   "source": [
    "freq_list = freq_list.sort_values('Frequency', ascending = False)\n",
    "first_list = first_list.sort_values('Frequency', ascending = False)\n",
    "last_list = last_list.sort_values('Frequency', ascending = False)\n",
    "three_list = three_list.sort_values('Frequency', ascending = False)"
   ]
  },
  {
   "cell_type": "code",
   "execution_count": 41,
   "id": "ddc87497",
   "metadata": {},
   "outputs": [],
   "source": [
    "freq_list.to_csv(\"All_Letter_Frequencies.txt\", sep = ' ', index_label = 'Letter')\n",
    "first_list.to_csv(\"First_Letter_Frequencies.txt\", sep = ' ', index_label = 'Letter')\n",
    "last_list.to_csv(\"Last_Letter_Frequencies.txt\", sep = ' ', index_label = 'Letter')\n",
    "three_list.to_csv(\"Three_Letter_Frequencies.txt\", sep = ' ', index_label = 'Letter')"
   ]
  },
  {
   "cell_type": "code",
   "execution_count": null,
   "id": "3c83202e",
   "metadata": {},
   "outputs": [],
   "source": []
  }
 ],
 "metadata": {
  "kernelspec": {
   "display_name": "Python 3 (ipykernel)",
   "language": "python",
   "name": "python3"
  },
  "language_info": {
   "codemirror_mode": {
    "name": "ipython",
    "version": 3
   },
   "file_extension": ".py",
   "mimetype": "text/x-python",
   "name": "python",
   "nbconvert_exporter": "python",
   "pygments_lexer": "ipython3",
   "version": "3.9.7"
  }
 },
 "nbformat": 4,
 "nbformat_minor": 5
}
