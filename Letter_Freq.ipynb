{
 "cells": [
  {
   "cell_type": "code",
   "execution_count": 157,
   "id": "1f4b7cdd",
   "metadata": {},
   "outputs": [],
   "source": [
    "# Imports\n",
    "import pandas as pd\n",
    "import os"
   ]
  },
  {
   "cell_type": "code",
   "execution_count": 158,
   "id": "e07547e3",
   "metadata": {},
   "outputs": [],
   "source": [
    "# Initialize Word List\n",
    "\n",
    "words = pd.read_csv(\"sgb-words.txt\")\n",
    "words = words.squeeze()"
   ]
  },
  {
   "cell_type": "code",
   "execution_count": 159,
   "id": "d18afc56",
   "metadata": {},
   "outputs": [],
   "source": [
    "# Initialize frequency table\n",
    "\n",
    "alpha = ['a','b','c','d','e','f','g','h','i','j','k','l','m','n','o','p','q','r','s','t','u','v','w','x','y','z']\n",
    "zeroes = [0,0,0,0,0,0,0,0,0,0,0,0,0,0,0,0,0,0,0,0,0,0,0,0,0,0]\n",
    "\n",
    "freq_list = pd.DataFrame(zeroes, index = alpha, columns = ['Frequency'])\n",
    "\n",
    "first_list = pd.DataFrame(zeroes, index = alpha, columns = ['Frequency'])\n",
    "\n",
    "last_list = pd.DataFrame(zeroes, index = alpha, columns = ['Frequency'])\n",
    "\n",
    "three_list = pd.DataFrame(columns = ['Frequency'])\n",
    "\n",
    "del alpha, zeroes\n",
    "\n",
    "count = 0"
   ]
  },
  {
   "cell_type": "code",
   "execution_count": 160,
   "id": "a2dda5a0",
   "metadata": {},
   "outputs": [],
   "source": [
    "for i in words:\n",
    "    ++count\n",
    "    for j in i:\n",
    "        freq_list.loc[j] = freq_list.loc[j] + 1\n",
    "    \n",
    "    \n",
    "    first_list.loc[i[0]] = first_list.loc[i[0]] + 1\n",
    "    \n",
    "    last_list.loc[i[4]] = last_list.loc[i[0]] + 1\n",
    "    \n",
    "    # Three List\n",
    "    a = i[0:3]\n",
    "    b = i[1:4]\n",
    "    c = i[2:5]\n",
    "    set = [a,b,c]\n",
    "    for z in set:\n",
    "        if z in three_list.index.values:\n",
    "            three_list.loc[z] = three_list.loc[z] + 1\n",
    "        else:\n",
    "            three_list.loc[z] = 1\n",
    "    \n",
    "    if count > 50: print(\"50 words completed\")\n",
    "    if count == words.size: \"Reached end of list!\"\n",
    "    "
   ]
  },
  {
   "cell_type": "code",
   "execution_count": 161,
   "id": "09ad543b",
   "metadata": {},
   "outputs": [
    {
     "data": {
      "text/html": [
       "<div>\n",
       "<style scoped>\n",
       "    .dataframe tbody tr th:only-of-type {\n",
       "        vertical-align: middle;\n",
       "    }\n",
       "\n",
       "    .dataframe tbody tr th {\n",
       "        vertical-align: top;\n",
       "    }\n",
       "\n",
       "    .dataframe thead th {\n",
       "        text-align: right;\n",
       "    }\n",
       "</style>\n",
       "<table border=\"1\" class=\"dataframe\">\n",
       "  <thead>\n",
       "    <tr style=\"text-align: right;\">\n",
       "      <th></th>\n",
       "      <th>Frequency</th>\n",
       "    </tr>\n",
       "  </thead>\n",
       "  <tbody>\n",
       "    <tr>\n",
       "      <th>ing</th>\n",
       "      <td>52</td>\n",
       "    </tr>\n",
       "    <tr>\n",
       "      <th>res</th>\n",
       "      <td>49</td>\n",
       "    </tr>\n",
       "    <tr>\n",
       "      <th>ate</th>\n",
       "      <td>48</td>\n",
       "    </tr>\n",
       "    <tr>\n",
       "      <th>lls</th>\n",
       "      <td>48</td>\n",
       "    </tr>\n",
       "    <tr>\n",
       "      <th>ter</th>\n",
       "      <td>42</td>\n",
       "    </tr>\n",
       "    <tr>\n",
       "      <th>...</th>\n",
       "      <td>...</td>\n",
       "    </tr>\n",
       "    <tr>\n",
       "      <th>omf</th>\n",
       "      <td>1</td>\n",
       "    </tr>\n",
       "    <tr>\n",
       "      <th>mfy</th>\n",
       "      <td>1</td>\n",
       "    </tr>\n",
       "    <tr>\n",
       "      <th>ida</th>\n",
       "      <td>1</td>\n",
       "    </tr>\n",
       "    <tr>\n",
       "      <th>unz</th>\n",
       "      <td>1</td>\n",
       "    </tr>\n",
       "    <tr>\n",
       "      <th>cce</th>\n",
       "      <td>1</td>\n",
       "    </tr>\n",
       "  </tbody>\n",
       "</table>\n",
       "<p>3271 rows × 1 columns</p>\n",
       "</div>"
      ],
      "text/plain": [
       "    Frequency\n",
       "ing        52\n",
       "res        49\n",
       "ate        48\n",
       "lls        48\n",
       "ter        42\n",
       "..        ...\n",
       "omf         1\n",
       "mfy         1\n",
       "ida         1\n",
       "unz         1\n",
       "cce         1\n",
       "\n",
       "[3271 rows x 1 columns]"
      ]
     },
     "execution_count": 161,
     "metadata": {},
     "output_type": "execute_result"
    }
   ],
   "source": [
    "three_list.sort_values('Frequency', ascending = False)"
   ]
  },
  {
   "cell_type": "code",
   "execution_count": 165,
   "id": "ddc87497",
   "metadata": {},
   "outputs": [],
   "source": [
    "freq_list.to_csv(\"All_Letter_Frequencies\")\n",
    "first_list.to_csv(\"First_Letter_Frequencies\")\n",
    "last_list.to_csv(\"Last_Letter_Frequencies\")\n",
    "three_list.to_csv(\"Three_Letter_Frequencies\")"
   ]
  },
  {
   "cell_type": "code",
   "execution_count": 147,
   "id": "940212d2",
   "metadata": {},
   "outputs": [
    {
     "name": "stdout",
     "output_type": "stream",
     "text": [
      "the\n",
      "hei\n",
      "eir\n"
     ]
    }
   ],
   "source": []
  }
 ],
 "metadata": {
  "kernelspec": {
   "display_name": "Python 3 (ipykernel)",
   "language": "python",
   "name": "python3"
  },
  "language_info": {
   "codemirror_mode": {
    "name": "ipython",
    "version": 3
   },
   "file_extension": ".py",
   "mimetype": "text/x-python",
   "name": "python",
   "nbconvert_exporter": "python",
   "pygments_lexer": "ipython3",
   "version": "3.9.7"
  }
 },
 "nbformat": 4,
 "nbformat_minor": 5
}
